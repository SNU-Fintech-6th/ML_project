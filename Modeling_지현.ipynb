{
 "cells": [
  {
   "cell_type": "markdown",
   "metadata": {},
   "source": [
    "# data 불러오기\n",
    "- import version 설정(터미널에서 지정)\n",
    "    * pip install scikit-learn==1.1\n",
    "    * pip install imbalanced-learn==0.9\n"
   ]
  },
  {
   "cell_type": "markdown",
   "metadata": {},
   "source": [
    "\n",
    "## data 확인\n",
    "데이터 출처: Kaggle\n",
    "https://www.kaggle.com/code/joshuaswords/awesome-hr-data-visualization-prediction"
   ]
  },
  {
   "cell_type": "markdown",
   "metadata": {},
   "source": [
    "# Modeling"
   ]
  },
  {
   "cell_type": "code",
   "execution_count": 116,
   "metadata": {},
   "outputs": [],
   "source": [
    "from sklearn.model_selection import train_test_split\n",
    "\n",
    "X = aug_train.dropna().drop(columns=['target']).values\n",
    "y = aug_train.dropna()['target'].values\n",
    "\n",
    "# train, val, test 셋 분리하는 코드\n",
    "# 데이터셋 분할: Train/Validation + Test\n",
    "X_train_val, X_test, y_train_val, y_test = train_test_split(X, y, test_size=0.2, random_state=80)\n",
    "# 데이터셋 분할: Train + Validation\n",
    "X_train, X_val, y_train, y_val = train_test_split(X_train_val, y_train_val, test_size=0.2, random_state=80)"
   ]
  },
  {
   "cell_type": "code",
   "execution_count": 117,
   "metadata": {},
   "outputs": [
    {
     "name": "stdout",
     "output_type": "stream",
     "text": [
      "<class 'pandas.core.frame.DataFrame'>\n",
      "RangeIndex: 15326 entries, 0 to 15325\n",
      "Data columns (total 32 columns):\n",
      " #   Column                                      Non-Null Count  Dtype  \n",
      "---  ------                                      --------------  -----  \n",
      " 0   city_development_index                      15326 non-null  float64\n",
      " 1   education_level                             15326 non-null  float64\n",
      " 2   experience                                  15326 non-null  float64\n",
      " 3   company_size                                15326 non-null  float64\n",
      " 4   last_new_job                                15326 non-null  float64\n",
      " 5   training_hours                              15326 non-null  float64\n",
      " 6   experience_under_1                          15326 non-null  float64\n",
      " 7   experience_over_20                          15326 non-null  float64\n",
      " 8   experience_Unknown                          15326 non-null  float64\n",
      " 9   gender_Male                                 15326 non-null  float64\n",
      " 10  gender_Other                                15326 non-null  float64\n",
      " 11  enrolled_university_No Enrollment           15326 non-null  float64\n",
      " 12  enrolled_university_Part time course        15326 non-null  float64\n",
      " 13  enrolled_university_Unknown                 15326 non-null  float64\n",
      " 14  major_discipline_Business Degree            15326 non-null  float64\n",
      " 15  major_discipline_Humanities                 15326 non-null  float64\n",
      " 16  major_discipline_No Major                   15326 non-null  float64\n",
      " 17  major_discipline_Other                      15326 non-null  float64\n",
      " 18  major_discipline_STEM                       15326 non-null  float64\n",
      " 19  major_discipline_Unknown                    15326 non-null  float64\n",
      " 20  company_type_Funded Startup                 15326 non-null  float64\n",
      " 21  company_type_NGO                            15326 non-null  float64\n",
      " 22  company_type_Other                          15326 non-null  float64\n",
      " 23  company_type_Public Sector                  15326 non-null  float64\n",
      " 24  company_type_Pvt Ltd                        15326 non-null  float64\n",
      " 25  company_type_Unemployed                     15326 non-null  float64\n",
      " 26  company_type_Unknown                        15326 non-null  float64\n",
      " 27  relevent_experience_No relevent experience  15326 non-null  float64\n",
      " 28  education_level_Unknown                     15326 non-null  float64\n",
      " 29  company_size_Unknown                        15326 non-null  float64\n",
      " 30  last_new_job_Unknown                        15326 non-null  float64\n",
      " 31  target                                      15326 non-null  int64  \n",
      "dtypes: float64(31), int64(1)\n",
      "memory usage: 3.7 MB\n",
      "None\n",
      "<class 'pandas.core.frame.DataFrame'>\n",
      "RangeIndex: 3066 entries, 0 to 3065\n",
      "Data columns (total 32 columns):\n",
      " #   Column                                      Non-Null Count  Dtype  \n",
      "---  ------                                      --------------  -----  \n",
      " 0   city_development_index                      3066 non-null   float64\n",
      " 1   education_level                             3066 non-null   float64\n",
      " 2   experience                                  3066 non-null   float64\n",
      " 3   company_size                                3066 non-null   float64\n",
      " 4   last_new_job                                3066 non-null   float64\n",
      " 5   training_hours                              3066 non-null   float64\n",
      " 6   experience_under_1                          3066 non-null   float64\n",
      " 7   experience_over_20                          3066 non-null   float64\n",
      " 8   experience_Unknown                          3066 non-null   float64\n",
      " 9   gender_Male                                 3066 non-null   float64\n",
      " 10  gender_Other                                3066 non-null   float64\n",
      " 11  enrolled_university_No Enrollment           3066 non-null   float64\n",
      " 12  enrolled_university_Part time course        3066 non-null   float64\n",
      " 13  enrolled_university_Unknown                 3066 non-null   float64\n",
      " 14  major_discipline_Business Degree            3066 non-null   float64\n",
      " 15  major_discipline_Humanities                 3066 non-null   float64\n",
      " 16  major_discipline_No Major                   3066 non-null   float64\n",
      " 17  major_discipline_Other                      3066 non-null   float64\n",
      " 18  major_discipline_STEM                       3066 non-null   float64\n",
      " 19  major_discipline_Unknown                    3066 non-null   float64\n",
      " 20  company_type_Funded Startup                 3066 non-null   float64\n",
      " 21  company_type_NGO                            3066 non-null   float64\n",
      " 22  company_type_Other                          3066 non-null   float64\n",
      " 23  company_type_Public Sector                  3066 non-null   float64\n",
      " 24  company_type_Pvt Ltd                        3066 non-null   float64\n",
      " 25  company_type_Unemployed                     3066 non-null   float64\n",
      " 26  company_type_Unknown                        3066 non-null   float64\n",
      " 27  relevent_experience_No relevent experience  3066 non-null   float64\n",
      " 28  education_level_Unknown                     3066 non-null   float64\n",
      " 29  company_size_Unknown                        3066 non-null   float64\n",
      " 30  last_new_job_Unknown                        3066 non-null   float64\n",
      " 31  target                                      3066 non-null   int64  \n",
      "dtypes: float64(31), int64(1)\n",
      "memory usage: 766.6 KB\n",
      "None\n"
     ]
    }
   ],
   "source": [
    "# 열 이름 설정\n",
    "feature_columns = aug_train.drop(columns=['target']).columns\n",
    "target_column = ['target']\n",
    "\n",
    "# numpy 배열을 DataFrame으로 변환\n",
    "X_train_df = pd.DataFrame(X_train_val, columns=feature_columns)\n",
    "X_val_df = pd.DataFrame(X_val, columns=feature_columns)\n",
    "X_test_df = pd.DataFrame(X_test, columns=feature_columns)\n",
    "y_train_df = pd.DataFrame(y_train_val, columns=target_column)\n",
    "y_val_df = pd.DataFrame(y_val, columns=target_column)\n",
    "y_test_df = pd.DataFrame(y_test, columns=target_column)\n",
    "\n",
    "# Ensure 'train_df' and 'test_df' are created correctly by concatenating X and y\n",
    "# train_df : for visuals\n",
    "train_df = pd.concat([X_train_df, y_train_df], axis=1)\n",
    "test_df = pd.concat([X_val_df, y_val_df], axis=1)\n",
    "new_data_df = pd.concat([X_test_df, y_test_df], axis=1)\n",
    "\n",
    "# 출력 확인 \n",
    "print(train_df.info())\n",
    "print(test_df.info())"
   ]
  },
  {
   "cell_type": "code",
   "execution_count": 118,
   "metadata": {},
   "outputs": [],
   "source": [
    "X_train, X_test, y_train, y_test = X_train, X_val, y_train, y_val"
   ]
  },
  {
   "cell_type": "code",
   "execution_count": 119,
   "metadata": {},
   "outputs": [],
   "source": [
    "import pandas as pd\n",
    "import numpy as np\n",
    "import seaborn as sns\n",
    "\n",
    "from sklearn.preprocessing import StandardScaler\n",
    "from imblearn.over_sampling import SMOTE\n",
    "\n",
    "from sklearn.metrics import accuracy_score, recall_score, precision_score, roc_auc_score, f1_score, confusion_matrix\n",
    "\n",
    "from sklearn.svm import LinearSVC, SVC\n",
    "from sklearn.tree import DecisionTreeClassifier\n",
    "from sklearn.ensemble import RandomForestClassifier, AdaBoostClassifier\n",
    "from sklearn.linear_model import LogisticRegression\n",
    "from sklearn.neighbors import KNeighborsClassifier\n",
    "from sklearn.naive_bayes import GaussianNB\n",
    "from xgboost import XGBClassifier"
   ]
  },
  {
   "cell_type": "code",
   "execution_count": 137,
   "metadata": {},
   "outputs": [],
   "source": [
    "scaler = StandardScaler()\n",
    "X_train_scaled = scaler.fit_transform(X_train)\n",
    "X_test_scaled = scaler.transform(X_test)\n",
    "\n",
    "smote = SMOTE(random_state=42)\n",
    "X_train_resampled, y_train_resampled = smote.fit_resample(X_train_scaled, y_train)"
   ]
  },
  {
   "cell_type": "code",
   "execution_count": 139,
   "metadata": {},
   "outputs": [],
   "source": [
    "# Assume 'target' is the target column and the rest are features\n",
    "X_new_test = new_data_df.drop(columns=['target'])\n",
    "y_new_test = new_data_df['target']\n",
    "\n",
    "# Convert to numpy arrays for consistency\n",
    "X_new_test_array = X_new_test.values\n",
    "\n",
    "# 전처리 (Scaling) 적용\n",
    "X_new_test_scaled = scaler.fit_transform(X_new_test_array)\n",
    "\n",
    "\n",
    "def test_data(model, model_t):\n",
    "    prediction = model.predict(X_new_test_scaled)\n",
    "    prediction_t = model_t.predict(X_new_test_scaled)\n",
    "\n",
    "    cm_new = confusion_matrix(y_new_test, prediction)\n",
    "    df_new = pd.DataFrame(\n",
    "        data=[\n",
    "            f1_score(y_new_test, prediction),\n",
    "            recall_score(y_new_test, prediction),\n",
    "            precision_score(y_new_test, prediction),\n",
    "            accuracy_score(y_new_test, prediction),\n",
    "            roc_auc_score(y_new_test, prediction)\n",
    "        ],\n",
    "        columns=[f'{model} Score'],\n",
    "        index=[\"F1 Score\", \"Recall\", \"Precision\", \"Accuracy\", \"ROC AUC Score\"]\n",
    "    )\n",
    "\n",
    "    cm_new_t = confusion_matrix(y_new_test, prediction_t)\n",
    "    df_new_t = pd.DataFrame(\n",
    "        data=[\n",
    "            f1_score(y_new_test, prediction_t),\n",
    "            recall_score(y_new_test, prediction_t),\n",
    "            precision_score(y_new_test, prediction_t),\n",
    "            accuracy_score(y_new_test, prediction_t),\n",
    "            roc_auc_score(y_new_test, prediction_t)\n",
    "        ],\n",
    "        columns=[f'Tuned {model_t} Score'],\n",
    "        index=[\"F1 Score\", \"Recall\", \"Precision\", \"Accuracy\", \"ROC AUC Score\"]\n",
    "    )\n",
    "\n",
    "    # 결과 출력\n",
    "    print(\"Model result\")\n",
    "    print(cm_new)\n",
    "    print(df_new)\n",
    "\n",
    "    # 결과 출력\n",
    "    print(\"Tuned Model result\")\n",
    "    print(cm_new_t)\n",
    "    print(df_new_t)\n"
   ]
  },
  {
   "cell_type": "markdown",
   "metadata": {},
   "source": [
    "## SVM"
   ]
  },
  {
   "cell_type": "markdown",
   "metadata": {},
   "source": [
    "### Poly"
   ]
  },
  {
   "cell_type": "code",
   "execution_count": 140,
   "metadata": {},
   "outputs": [
    {
     "data": {
      "text/html": [
       "<div>\n",
       "<style scoped>\n",
       "    .dataframe tbody tr th:only-of-type {\n",
       "        vertical-align: middle;\n",
       "    }\n",
       "\n",
       "    .dataframe tbody tr th {\n",
       "        vertical-align: top;\n",
       "    }\n",
       "\n",
       "    .dataframe thead th {\n",
       "        text-align: right;\n",
       "    }\n",
       "</style>\n",
       "<table border=\"1\" class=\"dataframe\">\n",
       "  <thead>\n",
       "    <tr style=\"text-align: right;\">\n",
       "      <th></th>\n",
       "      <th>SVC Poly Kernel Score</th>\n",
       "    </tr>\n",
       "  </thead>\n",
       "  <tbody>\n",
       "    <tr>\n",
       "      <th>F1 Score</th>\n",
       "      <td>0.587034</td>\n",
       "    </tr>\n",
       "    <tr>\n",
       "      <th>Recall</th>\n",
       "      <td>0.740979</td>\n",
       "    </tr>\n",
       "    <tr>\n",
       "      <th>Precision</th>\n",
       "      <td>0.486052</td>\n",
       "    </tr>\n",
       "    <tr>\n",
       "      <th>Accuracy</th>\n",
       "      <td>0.736138</td>\n",
       "    </tr>\n",
       "    <tr>\n",
       "      <th>ROC AUC Score</th>\n",
       "      <td>0.737739</td>\n",
       "    </tr>\n",
       "  </tbody>\n",
       "</table>\n",
       "</div>"
      ],
      "text/plain": [
       "               SVC Poly Kernel Score\n",
       "F1 Score                    0.587034\n",
       "Recall                      0.740979\n",
       "Precision                   0.486052\n",
       "Accuracy                    0.736138\n",
       "ROC AUC Score               0.737739"
      ]
     },
     "execution_count": 140,
     "metadata": {},
     "output_type": "execute_result"
    }
   ],
   "source": [
    "SVC_poly = SVC(kernel='poly')\n",
    "SVC_poly.fit(X_train_resampled, y_train_resampled)\n",
    "\n",
    "# 예측 및 평가\n",
    "SVC_poly_prediction = SVC_poly.predict(X_test_scaled)\n",
    "cm_SVC_poly = confusion_matrix(y_test, SVC_poly_prediction)\n",
    "df_SVC_poly = pd.DataFrame(data=[f1_score(y_test, SVC_poly_prediction), recall_score(y_test, SVC_poly_prediction),\n",
    "                   precision_score(y_test, SVC_poly_prediction), accuracy_score(y_test, SVC_poly_prediction), \n",
    "                   roc_auc_score(y_test, SVC_poly_prediction)],\n",
    "             columns=['SVC Poly Kernel Score'],\n",
    "             index=[\"F1 Score\", \"Recall\", \"Precision\", \"Accuracy\", \"ROC AUC Score\"])\n",
    "df_SVC_poly"
   ]
  },
  {
   "cell_type": "code",
   "execution_count": 141,
   "metadata": {},
   "outputs": [
    {
     "name": "stdout",
     "output_type": "stream",
     "text": [
      "Best Parameters:  {'C': 100}\n"
     ]
    },
    {
     "data": {
      "text/html": [
       "<div>\n",
       "<style scoped>\n",
       "    .dataframe tbody tr th:only-of-type {\n",
       "        vertical-align: middle;\n",
       "    }\n",
       "\n",
       "    .dataframe tbody tr th {\n",
       "        vertical-align: top;\n",
       "    }\n",
       "\n",
       "    .dataframe thead th {\n",
       "        text-align: right;\n",
       "    }\n",
       "</style>\n",
       "<table border=\"1\" class=\"dataframe\">\n",
       "  <thead>\n",
       "    <tr style=\"text-align: right;\">\n",
       "      <th></th>\n",
       "      <th>Tuned SVC Poly Kernel Score</th>\n",
       "    </tr>\n",
       "  </thead>\n",
       "  <tbody>\n",
       "    <tr>\n",
       "      <th>F1 Score</th>\n",
       "      <td>0.575615</td>\n",
       "    </tr>\n",
       "    <tr>\n",
       "      <th>Recall</th>\n",
       "      <td>0.708763</td>\n",
       "    </tr>\n",
       "    <tr>\n",
       "      <th>Precision</th>\n",
       "      <td>0.484581</td>\n",
       "    </tr>\n",
       "    <tr>\n",
       "      <th>Accuracy</th>\n",
       "      <td>0.735486</td>\n",
       "    </tr>\n",
       "    <tr>\n",
       "      <th>ROC AUC Score</th>\n",
       "      <td>0.726652</td>\n",
       "    </tr>\n",
       "  </tbody>\n",
       "</table>\n",
       "</div>"
      ],
      "text/plain": [
       "               Tuned SVC Poly Kernel Score\n",
       "F1 Score                          0.575615\n",
       "Recall                            0.708763\n",
       "Precision                         0.484581\n",
       "Accuracy                          0.735486\n",
       "ROC AUC Score                     0.726652"
      ]
     },
     "execution_count": 141,
     "metadata": {},
     "output_type": "execute_result"
    }
   ],
   "source": [
    "params_grid = {\n",
    "    'C': [10 ** k for k in range(-3, 3)],    \n",
    "    # 'gamma': ['scale', 'auto', 0.01, 0.1, 1],\n",
    "    # 'degree': [2, 3, 4, 5] # 3\n",
    "}\n",
    "\n",
    "# Initialize the GridSearchCV\n",
    "clf = GridSearchCV(SVC_poly, params_grid, cv=3, scoring='f1')\n",
    "clf.fit(X_train_resampled, y_train_resampled)\n",
    "\n",
    "# Output the best parameters\n",
    "print(\"Best Parameters: \", clf.best_params_)\n",
    "\n",
    "# Predictions and evaluation\n",
    "SVC_poly_t_prediction = clf.predict(X_test_scaled)\n",
    "cm_SVC_poly_t = confusion_matrix(y_test, SVC_poly_t_prediction)\n",
    "df_SVC_poly_t = pd.DataFrame(data=[f1_score(y_test, SVC_poly_t_prediction), recall_score(y_test, SVC_poly_t_prediction),\n",
    "                   precision_score(y_test, SVC_poly_t_prediction), accuracy_score(y_test, SVC_poly_t_prediction), \n",
    "                   roc_auc_score(y_test, SVC_poly_t_prediction)],\n",
    "             columns=['Tuned SVC Poly Kernel Score'],\n",
    "             index=[\"F1 Score\", \"Recall\", \"Precision\", \"Accuracy\", \"ROC AUC Score\"])\n",
    "df_SVC_poly_t"
   ]
  },
  {
   "cell_type": "code",
   "execution_count": 142,
   "metadata": {},
   "outputs": [
    {
     "name": "stdout",
     "output_type": "stream",
     "text": [
      "Model result\n",
      "[[2103  756]\n",
      " [ 252  721]]\n",
      "               SVC(kernel='poly') Score\n",
      "F1 Score                       0.588571\n",
      "Recall                         0.741007\n",
      "Precision                      0.488152\n",
      "Accuracy                       0.736952\n",
      "ROC AUC Score                  0.738290\n",
      "Tuned Model result\n",
      "[[2129  730]\n",
      " [ 295  678]]\n",
      "               Tuned SVC(C=100, kernel='poly') Score\n",
      "F1 Score                                    0.569509\n",
      "Recall                                      0.696814\n",
      "Precision                                   0.481534\n",
      "Accuracy                                    0.732516\n",
      "ROC AUC Score                               0.720740\n"
     ]
    }
   ],
   "source": [
    "test_data(SVC_poly, clf.best_estimator_)"
   ]
  },
  {
   "cell_type": "markdown",
   "metadata": {},
   "source": [
    "### RBF"
   ]
  },
  {
   "cell_type": "code",
   "execution_count": 143,
   "metadata": {},
   "outputs": [
    {
     "data": {
      "text/html": [
       "<div>\n",
       "<style scoped>\n",
       "    .dataframe tbody tr th:only-of-type {\n",
       "        vertical-align: middle;\n",
       "    }\n",
       "\n",
       "    .dataframe tbody tr th {\n",
       "        vertical-align: top;\n",
       "    }\n",
       "\n",
       "    .dataframe thead th {\n",
       "        text-align: right;\n",
       "    }\n",
       "</style>\n",
       "<table border=\"1\" class=\"dataframe\">\n",
       "  <thead>\n",
       "    <tr style=\"text-align: right;\">\n",
       "      <th></th>\n",
       "      <th>SVC RBF Kernel Score</th>\n",
       "    </tr>\n",
       "  </thead>\n",
       "  <tbody>\n",
       "    <tr>\n",
       "      <th>F1 Score</th>\n",
       "      <td>0.587571</td>\n",
       "    </tr>\n",
       "    <tr>\n",
       "      <th>Recall</th>\n",
       "      <td>0.737113</td>\n",
       "    </tr>\n",
       "    <tr>\n",
       "      <th>Precision</th>\n",
       "      <td>0.488471</td>\n",
       "    </tr>\n",
       "    <tr>\n",
       "      <th>Accuracy</th>\n",
       "      <td>0.738095</td>\n",
       "    </tr>\n",
       "    <tr>\n",
       "      <th>ROC AUC Score</th>\n",
       "      <td>0.737771</td>\n",
       "    </tr>\n",
       "  </tbody>\n",
       "</table>\n",
       "</div>"
      ],
      "text/plain": [
       "               SVC RBF Kernel Score\n",
       "F1 Score                   0.587571\n",
       "Recall                     0.737113\n",
       "Precision                  0.488471\n",
       "Accuracy                   0.738095\n",
       "ROC AUC Score              0.737771"
      ]
     },
     "execution_count": 143,
     "metadata": {},
     "output_type": "execute_result"
    }
   ],
   "source": [
    "SVC_rbf = SVC(kernel='rbf')\n",
    "SVC_rbf.fit(X_train_resampled, y_train_resampled)\n",
    "\n",
    "# 예측 및 평가\n",
    "SVC_RBF_prediction = SVC_rbf.predict(X_test_scaled)\n",
    "cm_SVC_RBF = confusion_matrix(y_test, SVC_RBF_prediction)\n",
    "df_SVC_RBF = pd.DataFrame(data=[f1_score(y_test, SVC_RBF_prediction), recall_score(y_test, SVC_RBF_prediction),\n",
    "                   precision_score(y_test, SVC_RBF_prediction), accuracy_score(y_test, SVC_RBF_prediction), \n",
    "                   roc_auc_score(y_test, SVC_RBF_prediction)],\n",
    "             columns=['SVC RBF Kernel Score'],\n",
    "             index=[\"F1 Score\", \"Recall\", \"Precision\", \"Accuracy\", \"ROC AUC Score\"])\n",
    "df_SVC_RBF"
   ]
  },
  {
   "cell_type": "code",
   "execution_count": 144,
   "metadata": {},
   "outputs": [
    {
     "name": "stdout",
     "output_type": "stream",
     "text": [
      "Best Parameters:  {'C': 10, 'gamma': 1}\n"
     ]
    },
    {
     "data": {
      "text/html": [
       "<div>\n",
       "<style scoped>\n",
       "    .dataframe tbody tr th:only-of-type {\n",
       "        vertical-align: middle;\n",
       "    }\n",
       "\n",
       "    .dataframe tbody tr th {\n",
       "        vertical-align: top;\n",
       "    }\n",
       "\n",
       "    .dataframe thead th {\n",
       "        text-align: right;\n",
       "    }\n",
       "</style>\n",
       "<table border=\"1\" class=\"dataframe\">\n",
       "  <thead>\n",
       "    <tr style=\"text-align: right;\">\n",
       "      <th></th>\n",
       "      <th>Tuned SVC RBF Kernel Score</th>\n",
       "    </tr>\n",
       "  </thead>\n",
       "  <tbody>\n",
       "    <tr>\n",
       "      <th>F1 Score</th>\n",
       "      <td>0.431880</td>\n",
       "    </tr>\n",
       "    <tr>\n",
       "      <th>Recall</th>\n",
       "      <td>0.408505</td>\n",
       "    </tr>\n",
       "    <tr>\n",
       "      <th>Precision</th>\n",
       "      <td>0.458092</td>\n",
       "    </tr>\n",
       "    <tr>\n",
       "      <th>Accuracy</th>\n",
       "      <td>0.727984</td>\n",
       "    </tr>\n",
       "    <tr>\n",
       "      <th>ROC AUC Score</th>\n",
       "      <td>0.622375</td>\n",
       "    </tr>\n",
       "  </tbody>\n",
       "</table>\n",
       "</div>"
      ],
      "text/plain": [
       "               Tuned SVC RBF Kernel Score\n",
       "F1 Score                         0.431880\n",
       "Recall                           0.408505\n",
       "Precision                        0.458092\n",
       "Accuracy                         0.727984\n",
       "ROC AUC Score                    0.622375"
      ]
     },
     "execution_count": 144,
     "metadata": {},
     "output_type": "execute_result"
    }
   ],
   "source": [
    "params_grid = {\n",
    "    'C': [10 ** k for k in range(-4, 4)],    \n",
    "    'gamma': ['scale', 'auto', 0.01, 0.1, 1]\n",
    "}\n",
    "\n",
    "# Initialize the GridSearchCV\n",
    "SVC_rbf_t = GridSearchCV(SVC_rbf, params_grid, cv=5, scoring='f1')\n",
    "SVC_rbf_t.fit(X_train_resampled, y_train_resampled)\n",
    "\n",
    "# Output the best parameters\n",
    "print(\"Best Parameters: \", SVC_rbf_t.best_params_)\n",
    "\n",
    "# Predictions and evaluation\n",
    "SVC_RBF_t_prediction = SVC_rbf_t.predict(X_test_scaled)\n",
    "cm_SVC_RBF_t = confusion_matrix(y_test, SVC_RBF_t_prediction)\n",
    "df_SVC_RBF_t = pd.DataFrame(data=[f1_score(y_test, SVC_RBF_t_prediction), recall_score(y_test, SVC_RBF_t_prediction),\n",
    "                   precision_score(y_test, SVC_RBF_t_prediction), accuracy_score(y_test, SVC_RBF_t_prediction), \n",
    "                   roc_auc_score(y_test, SVC_RBF_t_prediction)],\n",
    "             columns=['Tuned SVC RBF Kernel Score'],\n",
    "             index=[\"F1 Score\", \"Recall\", \"Precision\", \"Accuracy\", \"ROC AUC Score\"])\n",
    "df_SVC_RBF_t"
   ]
  },
  {
   "cell_type": "code",
   "execution_count": 146,
   "metadata": {},
   "outputs": [
    {
     "name": "stdout",
     "output_type": "stream",
     "text": [
      "Model result\n",
      "[[2121  738]\n",
      " [ 241  732]]\n",
      "               SVC() Score\n",
      "F1 Score          0.599263\n",
      "Recall            0.752312\n",
      "Precision         0.497959\n",
      "Accuracy          0.744520\n",
      "ROC AUC Score     0.747090\n",
      "Tuned Model result\n",
      "[[2408  451]\n",
      " [ 578  395]]\n",
      "               Tuned SVC(C=10, gamma=1) Score\n",
      "F1 Score                             0.434305\n",
      "Recall                               0.405961\n",
      "Precision                            0.466903\n",
      "Accuracy                             0.731472\n",
      "ROC AUC Score                        0.624107\n"
     ]
    }
   ],
   "source": [
    "test_data(SVC_rbf, SVC_rbf_t.best_estimator_)"
   ]
  },
  {
   "cell_type": "code",
   "execution_count": null,
   "metadata": {
    "notebookRunGroups": {
     "groupValue": "1"
    }
   },
   "outputs": [],
   "source": []
  },
  {
   "cell_type": "code",
   "execution_count": null,
   "metadata": {},
   "outputs": [],
   "source": []
  },
  {
   "cell_type": "markdown",
   "metadata": {},
   "source": []
  }
 ],
 "metadata": {
  "kernelspec": {
   "display_name": "base",
   "language": "python",
   "name": "python3"
  },
  "language_info": {
   "codemirror_mode": {
    "name": "ipython",
    "version": 3
   },
   "file_extension": ".py",
   "mimetype": "text/x-python",
   "name": "python",
   "nbconvert_exporter": "python",
   "pygments_lexer": "ipython3",
   "version": "3.11.7"
  }
 },
 "nbformat": 4,
 "nbformat_minor": 2
}
