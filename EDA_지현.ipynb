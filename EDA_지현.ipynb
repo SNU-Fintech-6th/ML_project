{
  "nbformat": 4,
  "nbformat_minor": 0,
  "metadata": {
    "colab": {
      "provenance": []
    },
    "kernelspec": {
      "name": "python3",
      "display_name": "Python 3"
    },
    "language_info": {
      "name": "python"
    }
  },
  "cells": [
    {
      "cell_type": "code",
      "execution_count": 7,
      "metadata": {
        "colab": {
          "base_uri": "https://localhost:8080/"
        },
        "id": "ercc1_UIXNSG",
        "outputId": "fb472b9b-e484-4e12-a2c2-e71f04ed3d2e"
      },
      "outputs": [
        {
          "output_type": "stream",
          "name": "stdout",
          "text": [
            "Mounted at /content/drive\n"
          ]
        }
      ],
      "source": [
        "import pandas as pd\n",
        "import numpy as np\n",
        "import seaborn as sns\n",
        "import matplotlib.pyplot as plt\n",
        "import matplotlib.colors\n",
        "import matplotlib.ticker as mtick\n",
        "\n",
        "# To ensure text placement and advanced grid layout\n",
        "from matplotlib.gridspec import GridSpec\n",
        "\n",
        "from google.colab import drive\n",
        "drive.mount('/content/drive')\n",
        "\n"
      ]
    },
    {
      "cell_type": "code",
      "source": [
        "# 경로 재설정해줘야 함\n",
        "aug_train_origin = pd.read_csv('/content/drive/MyDrive/Colab Notebooks/data/aug_train.csv')"
      ],
      "metadata": {
        "id": "DXPlonNxYXfT"
      },
      "execution_count": null,
      "outputs": []
    },
    {
      "cell_type": "code",
      "source": [
        "# Orders\n",
        "ed_order = ['Primary School','High School','Graduate','Masters','Phd','Unknown']\n",
        "enroll_order = ['No Enrollment','Part time course','Full time course','Unknown']\n",
        "disc_order = ['STEM','Humanities','Business Degree','Arts','Other','No Major','Unknown']\n",
        "exp_yrs_order = ['0','<1','1','2','3','4','5','6','7','8','9','10','11','12','13','14','15','16','17','18','19','20','>20']\n",
        "exp_yrs_order_2 = [0,1,2,3,4,5,6,7,8,9,10,11,12,13,14,15,16,17,18,19,20]\n",
        "size_order = ['0','<10', '10-49', '50-99', '100-500', '500-999', '1000-4999', '5000-9999', '10000+','Unemployed']\n",
        "job_order = ['Never', '1', '2', '3', '4', '>4','Unknown']\n",
        "exp_order =['No relevant experience','Has relevant experience']\n",
        "gender_order = ['Male','Female','Other']\n",
        "company_order = ['Pvt Ltd','Funded Startup','Public Sector','Early Stage Startup','NGO','Other','Unknown','Unemployed']"
      ],
      "metadata": {
        "id": "fy3PFXb3Yi5W"
      },
      "execution_count": null,
      "outputs": []
    },
    {
      "cell_type": "code",
      "source": [
        "# target이 0과 1인 경우를 각각 카운트\n",
        "target_counts = aug_train_origin['target'].value_counts()\n",
        "\n",
        "# 막대 그래프로 시각화\n",
        "plt.figure(figsize=(6, 4))\n",
        "plt.bar(['Non-job seeker', 'Job seeker'], target_counts, color=['gray', '#0e4f66'])\n",
        "plt.xlabel('Target')\n",
        "plt.ylabel('Count')\n",
        "plt.title('Count of Non-job Seekers and Job Seekers')\n",
        "plt.show()"
      ],
      "metadata": {
        "colab": {
          "base_uri": "https://localhost:8080/",
          "height": 216
        },
        "id": "y5fol9wufBnf",
        "outputId": "b4ab017f-6635-48bb-9d83-d1066e8e6a79"
      },
      "execution_count": 1,
      "outputs": [
        {
          "output_type": "error",
          "ename": "NameError",
          "evalue": "name 'aug_train_origin' is not defined",
          "traceback": [
            "\u001b[0;31m---------------------------------------------------------------------------\u001b[0m",
            "\u001b[0;31mNameError\u001b[0m                                 Traceback (most recent call last)",
            "\u001b[0;32m<ipython-input-1-45010ccc21a7>\u001b[0m in \u001b[0;36m<cell line: 4>\u001b[0;34m()\u001b[0m\n\u001b[1;32m      2\u001b[0m \u001b[0;34m\u001b[0m\u001b[0m\n\u001b[1;32m      3\u001b[0m \u001b[0;31m# target이 0과 1인 경우를 각각 카운트\u001b[0m\u001b[0;34m\u001b[0m\u001b[0;34m\u001b[0m\u001b[0m\n\u001b[0;32m----> 4\u001b[0;31m \u001b[0mtarget_counts\u001b[0m \u001b[0;34m=\u001b[0m \u001b[0maug_train_origin\u001b[0m\u001b[0;34m[\u001b[0m\u001b[0;34m'target'\u001b[0m\u001b[0;34m]\u001b[0m\u001b[0;34m.\u001b[0m\u001b[0mvalue_counts\u001b[0m\u001b[0;34m(\u001b[0m\u001b[0;34m)\u001b[0m\u001b[0;34m\u001b[0m\u001b[0;34m\u001b[0m\u001b[0m\n\u001b[0m\u001b[1;32m      5\u001b[0m \u001b[0;34m\u001b[0m\u001b[0m\n\u001b[1;32m      6\u001b[0m \u001b[0;31m# 막대 그래프로 시각화\u001b[0m\u001b[0;34m\u001b[0m\u001b[0;34m\u001b[0m\u001b[0m\n",
            "\u001b[0;31mNameError\u001b[0m: name 'aug_train_origin' is not defined"
          ]
        }
      ]
    },
    {
      "cell_type": "code",
      "source": [
        "import matplotlib.pyplot as plt\n",
        "import seaborn as sns\n",
        "\n",
        "# 상위 5개와 하위 5개의 도시 추출\n",
        "top_5_cities = aug_train_origin['city'].value_counts().head(5).index\n",
        "bottom_5_cities = aug_train_origin['city'].value_counts().tail(5).index\n",
        "\n",
        "# target 값을 'job seeker'와 'non-job seeker'로 매핑\n",
        "target_mapping = {0: 'Non Job-Seeker', 1: 'Job-Seeker'}\n",
        "\n",
        "# City(도시)별 Enrollee 수 시각화 (막대 그래프) - 상위 5개 도시\n",
        "plt.figure(figsize=(12, 6))\n",
        "sns.countplot(data=aug_train_origin[aug_train_origin['city'].isin(top_5_cities)], x='city', hue='target', palette={0: 'gray', 1: '#0e4f66'})\n",
        "plt.title('Enrollee Count by Top 5 Cities')\n",
        "plt.xticks(rotation=45)\n",
        "plt.legend(title='Target', labels=[target_mapping[x] for x in range(2)])  # target 값을 매핑한 값으로 레전드 라벨 설정\n",
        "plt.show()\n",
        "\n",
        "# City(도시)별 Enrollee 수 시각화 (막대 그래프) - 하위 5개 도시\n",
        "plt.figure(figsize=(12, 6))\n",
        "sns.countplot(data=aug_train_origin[aug_train_origin['city'].isin(bottom_5_cities)], x='city', hue='target', palette={0: 'gray', 1: '#0e4f66'})\n",
        "plt.title('Enrollee Count by Bottom 5 Cities')\n",
        "plt.xticks(rotation=45)\n",
        "plt.legend(title='Target', labels=[target_mapping[x] for x in range(2)])  # target 값을 매핑한 값으로 레전드 라벨 설정\n",
        "plt.show()"
      ],
      "metadata": {
        "colab": {
          "base_uri": "https://localhost:8080/",
          "height": 216
        },
        "id": "5JQryzu7XX1C",
        "outputId": "ff29b1ab-22af-4321-ed21-209196a23a93"
      },
      "execution_count": 2,
      "outputs": [
        {
          "output_type": "error",
          "ename": "NameError",
          "evalue": "name 'aug_train_origin' is not defined",
          "traceback": [
            "\u001b[0;31m---------------------------------------------------------------------------\u001b[0m",
            "\u001b[0;31mNameError\u001b[0m                                 Traceback (most recent call last)",
            "\u001b[0;32m<ipython-input-2-4c355648029a>\u001b[0m in \u001b[0;36m<cell line: 5>\u001b[0;34m()\u001b[0m\n\u001b[1;32m      3\u001b[0m \u001b[0;34m\u001b[0m\u001b[0m\n\u001b[1;32m      4\u001b[0m \u001b[0;31m# 상위 5개와 하위 5개의 도시 추출\u001b[0m\u001b[0;34m\u001b[0m\u001b[0;34m\u001b[0m\u001b[0m\n\u001b[0;32m----> 5\u001b[0;31m \u001b[0mtop_5_cities\u001b[0m \u001b[0;34m=\u001b[0m \u001b[0maug_train_origin\u001b[0m\u001b[0;34m[\u001b[0m\u001b[0;34m'city'\u001b[0m\u001b[0;34m]\u001b[0m\u001b[0;34m.\u001b[0m\u001b[0mvalue_counts\u001b[0m\u001b[0;34m(\u001b[0m\u001b[0;34m)\u001b[0m\u001b[0;34m.\u001b[0m\u001b[0mhead\u001b[0m\u001b[0;34m(\u001b[0m\u001b[0;36m5\u001b[0m\u001b[0;34m)\u001b[0m\u001b[0;34m.\u001b[0m\u001b[0mindex\u001b[0m\u001b[0;34m\u001b[0m\u001b[0;34m\u001b[0m\u001b[0m\n\u001b[0m\u001b[1;32m      6\u001b[0m \u001b[0mbottom_5_cities\u001b[0m \u001b[0;34m=\u001b[0m \u001b[0maug_train_origin\u001b[0m\u001b[0;34m[\u001b[0m\u001b[0;34m'city'\u001b[0m\u001b[0;34m]\u001b[0m\u001b[0;34m.\u001b[0m\u001b[0mvalue_counts\u001b[0m\u001b[0;34m(\u001b[0m\u001b[0;34m)\u001b[0m\u001b[0;34m.\u001b[0m\u001b[0mtail\u001b[0m\u001b[0;34m(\u001b[0m\u001b[0;36m5\u001b[0m\u001b[0;34m)\u001b[0m\u001b[0;34m.\u001b[0m\u001b[0mindex\u001b[0m\u001b[0;34m\u001b[0m\u001b[0;34m\u001b[0m\u001b[0m\n\u001b[1;32m      7\u001b[0m \u001b[0;34m\u001b[0m\u001b[0m\n",
            "\u001b[0;31mNameError\u001b[0m: name 'aug_train_origin' is not defined"
          ]
        }
      ]
    },
    {
      "cell_type": "code",
      "source": [
        "import matplotlib.pyplot as plt\n",
        "import seaborn as sns\n",
        "\n",
        "# 상위 및 하위 도시 추출\n",
        "top_cities = aug_train_origin['city'].value_counts().head(5).index\n",
        "bottom_cities = aug_train_origin['city'].value_counts().tail(5).index\n",
        "\n",
        "# target이 0인 경우를 non-job seeker로, 1인 경우를 job seeker로 매핑\n",
        "target_mapping = {0: 'Non Job-Seeker', 1: 'Job-Seeker'}\n",
        "\n",
        "# City(도시)별 Enrollee 수 시각화 (막대 그래프) - 상위 및 하위 도시\n",
        "plt.figure(figsize=(12, 6))\n",
        "\n",
        "# 상위 5개 도시와 하위 5개 도시를 추출하고, 그 중간 도시는 생략\n",
        "selected_cities = aug_train_origin[aug_train_origin['city'].isin(top_cities) | aug_train_origin['city'].isin(bottom_cities)]['city'].unique()\n",
        "\n",
        "# 상위 및 하위 도시의 데이터 중에서 target이 0과 1인 경우를 모두 시각화\n",
        "plt.text(0.5, 0.5, 'Middle cities are omitted', horizontalalignment='center', verticalalignment='center', transform=plt.gca().transAxes, fontsize=14, color='gray', alpha=0.5)\n",
        "sns.countplot(data=aug_train_origin[aug_train_origin['city'].isin(selected_cities)], x='city', hue='target', palette={0: 'gray', 1: '#0e4f66'})\n",
        "plt.title('Enrollee Count by Cities (Top and Bottom)')\n",
        "plt.xticks(rotation=45)\n",
        "\n",
        "# target 값을 매핑한 값으로 레전드 라벨 설정\n",
        "plt.legend(title='Target', labels=[target_mapping[x] for x in range(2)])\n",
        "\n",
        "plt.show()\n"
      ],
      "metadata": {
        "colab": {
          "base_uri": "https://localhost:8080/",
          "height": 216
        },
        "id": "sECVlEKhXYc5",
        "outputId": "8ead566d-bc7a-4c84-97ab-59da04bf81d4"
      },
      "execution_count": 3,
      "outputs": [
        {
          "output_type": "error",
          "ename": "NameError",
          "evalue": "name 'aug_train_origin' is not defined",
          "traceback": [
            "\u001b[0;31m---------------------------------------------------------------------------\u001b[0m",
            "\u001b[0;31mNameError\u001b[0m                                 Traceback (most recent call last)",
            "\u001b[0;32m<ipython-input-3-edebd57d776a>\u001b[0m in \u001b[0;36m<cell line: 5>\u001b[0;34m()\u001b[0m\n\u001b[1;32m      3\u001b[0m \u001b[0;34m\u001b[0m\u001b[0m\n\u001b[1;32m      4\u001b[0m \u001b[0;31m# 상위 및 하위 도시 추출\u001b[0m\u001b[0;34m\u001b[0m\u001b[0;34m\u001b[0m\u001b[0m\n\u001b[0;32m----> 5\u001b[0;31m \u001b[0mtop_cities\u001b[0m \u001b[0;34m=\u001b[0m \u001b[0maug_train_origin\u001b[0m\u001b[0;34m[\u001b[0m\u001b[0;34m'city'\u001b[0m\u001b[0;34m]\u001b[0m\u001b[0;34m.\u001b[0m\u001b[0mvalue_counts\u001b[0m\u001b[0;34m(\u001b[0m\u001b[0;34m)\u001b[0m\u001b[0;34m.\u001b[0m\u001b[0mhead\u001b[0m\u001b[0;34m(\u001b[0m\u001b[0;36m5\u001b[0m\u001b[0;34m)\u001b[0m\u001b[0;34m.\u001b[0m\u001b[0mindex\u001b[0m\u001b[0;34m\u001b[0m\u001b[0;34m\u001b[0m\u001b[0m\n\u001b[0m\u001b[1;32m      6\u001b[0m \u001b[0mbottom_cities\u001b[0m \u001b[0;34m=\u001b[0m \u001b[0maug_train_origin\u001b[0m\u001b[0;34m[\u001b[0m\u001b[0;34m'city'\u001b[0m\u001b[0;34m]\u001b[0m\u001b[0;34m.\u001b[0m\u001b[0mvalue_counts\u001b[0m\u001b[0;34m(\u001b[0m\u001b[0;34m)\u001b[0m\u001b[0;34m.\u001b[0m\u001b[0mtail\u001b[0m\u001b[0;34m(\u001b[0m\u001b[0;36m5\u001b[0m\u001b[0;34m)\u001b[0m\u001b[0;34m.\u001b[0m\u001b[0mindex\u001b[0m\u001b[0;34m\u001b[0m\u001b[0;34m\u001b[0m\u001b[0m\n\u001b[1;32m      7\u001b[0m \u001b[0;34m\u001b[0m\u001b[0m\n",
            "\u001b[0;31mNameError\u001b[0m: name 'aug_train_origin' is not defined"
          ]
        }
      ]
    },
    {
      "cell_type": "code",
      "source": [
        "import matplotlib.pyplot as plt\n",
        "import seaborn as sns\n",
        "\n",
        "# target이 0인 경우를 'Non Job-Seeker'로, 1인 경우를 'Job-Seeker'로 매핑\n",
        "target_mapping = {0: 'Non Job-Seeker', 1: 'Job-Seeker'}\n",
        "\n",
        "# Company Size(회사 규모)와 Enrollee 수 시각화 (막대 그래프)\n",
        "plt.figure(figsize=(8, 6))\n",
        "# size_order = train_df['company_size'].value_counts().index\n",
        "size_order = ['0','<10', '10-49', '50-99', '100-500', '500-999', '1000-4999', '5000-9999', '10000+','Unemployed']\n",
        "sns.countplot(data=train_df, order=size_order, x='company_size', hue='target', palette={0: 'gray', 1: '#0e4f66'})\n",
        "\n",
        "plt.title('Company Size')\n",
        "plt.xlabel('Company Size')\n",
        "plt.ylabel('Count')\n",
        "\n",
        "# target 값을 매핑한 값으로 레전드 라벨 설정\n",
        "plt.legend(title='Target', labels=[target_mapping[x] for x in range(2)])\n",
        "\n",
        "plt.show()\n"
      ],
      "metadata": {
        "colab": {
          "base_uri": "https://localhost:8080/",
          "height": 269
        },
        "id": "QWyJ_n3ZXfOm",
        "outputId": "2b89f295-d325-4b6c-f800-46df3d947161"
      },
      "execution_count": 4,
      "outputs": [
        {
          "output_type": "error",
          "ename": "NameError",
          "evalue": "name 'train_df' is not defined",
          "traceback": [
            "\u001b[0;31m---------------------------------------------------------------------------\u001b[0m",
            "\u001b[0;31mNameError\u001b[0m                                 Traceback (most recent call last)",
            "\u001b[0;32m<ipython-input-4-db48fe7544c3>\u001b[0m in \u001b[0;36m<cell line: 11>\u001b[0;34m()\u001b[0m\n\u001b[1;32m      9\u001b[0m \u001b[0;31m# size_order = train_df['company_size'].value_counts().index\u001b[0m\u001b[0;34m\u001b[0m\u001b[0;34m\u001b[0m\u001b[0m\n\u001b[1;32m     10\u001b[0m \u001b[0msize_order\u001b[0m \u001b[0;34m=\u001b[0m \u001b[0;34m[\u001b[0m\u001b[0;34m'0'\u001b[0m\u001b[0;34m,\u001b[0m\u001b[0;34m'<10'\u001b[0m\u001b[0;34m,\u001b[0m \u001b[0;34m'10-49'\u001b[0m\u001b[0;34m,\u001b[0m \u001b[0;34m'50-99'\u001b[0m\u001b[0;34m,\u001b[0m \u001b[0;34m'100-500'\u001b[0m\u001b[0;34m,\u001b[0m \u001b[0;34m'500-999'\u001b[0m\u001b[0;34m,\u001b[0m \u001b[0;34m'1000-4999'\u001b[0m\u001b[0;34m,\u001b[0m \u001b[0;34m'5000-9999'\u001b[0m\u001b[0;34m,\u001b[0m \u001b[0;34m'10000+'\u001b[0m\u001b[0;34m,\u001b[0m\u001b[0;34m'Unemployed'\u001b[0m\u001b[0;34m]\u001b[0m\u001b[0;34m\u001b[0m\u001b[0;34m\u001b[0m\u001b[0m\n\u001b[0;32m---> 11\u001b[0;31m \u001b[0msns\u001b[0m\u001b[0;34m.\u001b[0m\u001b[0mcountplot\u001b[0m\u001b[0;34m(\u001b[0m\u001b[0mdata\u001b[0m\u001b[0;34m=\u001b[0m\u001b[0mtrain_df\u001b[0m\u001b[0;34m,\u001b[0m \u001b[0morder\u001b[0m\u001b[0;34m=\u001b[0m\u001b[0msize_order\u001b[0m\u001b[0;34m,\u001b[0m \u001b[0mx\u001b[0m\u001b[0;34m=\u001b[0m\u001b[0;34m'company_size'\u001b[0m\u001b[0;34m,\u001b[0m \u001b[0mhue\u001b[0m\u001b[0;34m=\u001b[0m\u001b[0;34m'target'\u001b[0m\u001b[0;34m,\u001b[0m \u001b[0mpalette\u001b[0m\u001b[0;34m=\u001b[0m\u001b[0;34m{\u001b[0m\u001b[0;36m0\u001b[0m\u001b[0;34m:\u001b[0m \u001b[0;34m'gray'\u001b[0m\u001b[0;34m,\u001b[0m \u001b[0;36m1\u001b[0m\u001b[0;34m:\u001b[0m \u001b[0;34m'#0e4f66'\u001b[0m\u001b[0;34m}\u001b[0m\u001b[0;34m)\u001b[0m\u001b[0;34m\u001b[0m\u001b[0;34m\u001b[0m\u001b[0m\n\u001b[0m\u001b[1;32m     12\u001b[0m \u001b[0;34m\u001b[0m\u001b[0m\n\u001b[1;32m     13\u001b[0m \u001b[0mplt\u001b[0m\u001b[0;34m.\u001b[0m\u001b[0mtitle\u001b[0m\u001b[0;34m(\u001b[0m\u001b[0;34m'Company Size'\u001b[0m\u001b[0;34m)\u001b[0m\u001b[0;34m\u001b[0m\u001b[0;34m\u001b[0m\u001b[0m\n",
            "\u001b[0;31mNameError\u001b[0m: name 'train_df' is not defined"
          ]
        },
        {
          "output_type": "display_data",
          "data": {
            "text/plain": [
              "<Figure size 800x600 with 0 Axes>"
            ]
          },
          "metadata": {}
        }
      ]
    },
    {
      "cell_type": "code",
      "source": [
        "import matplotlib.pyplot as plt\n",
        "import seaborn as sns\n",
        "\n",
        "# 각 변수의 order 재정렬\n",
        "size_order = ['0','<10', '10-49', '50-99', '100-500', '500-999', '1000-4999', '5000-9999', '10000+','Unemployed']\n",
        "type_order = ['Pvt Ltd','Funded Startup','Public Sector','Early Stage Startup','NGO','Other','Unknown','Unemployed']\n",
        "\n",
        "# Company size별 Company type 개수를 계산\n",
        "company_size_type_counts = train_df.groupby(['company_size', 'company_type']).size().unstack(fill_value=0)\n",
        "\n",
        "# 막대 그래프 그리기\n",
        "plt.figure(figsize=(12, 8))\n",
        "palette = 'Set2'\n",
        "company_size_type_counts.loc[size_order, type_order].plot(kind='bar', stacked=True)\n",
        "plt.title('Company Type Counts by Company Size')\n",
        "plt.xlabel('Company Size')\n",
        "plt.ylabel('Counts')\n",
        "plt.xticks(rotation=45)\n",
        "plt.legend(title='Company Type')\n",
        "plt.show()\n"
      ],
      "metadata": {
        "colab": {
          "base_uri": "https://localhost:8080/",
          "height": 233
        },
        "id": "9VEm-wTWXm7C",
        "outputId": "a0d602ee-dda8-4017-d352-ed77bc29354c"
      },
      "execution_count": 6,
      "outputs": [
        {
          "output_type": "error",
          "ename": "NameError",
          "evalue": "name 'train_df' is not defined",
          "traceback": [
            "\u001b[0;31m---------------------------------------------------------------------------\u001b[0m",
            "\u001b[0;31mNameError\u001b[0m                                 Traceback (most recent call last)",
            "\u001b[0;32m<ipython-input-6-af2979cb8def>\u001b[0m in \u001b[0;36m<cell line: 9>\u001b[0;34m()\u001b[0m\n\u001b[1;32m      7\u001b[0m \u001b[0;34m\u001b[0m\u001b[0m\n\u001b[1;32m      8\u001b[0m \u001b[0;31m# Company size별 Company type 개수를 계산\u001b[0m\u001b[0;34m\u001b[0m\u001b[0;34m\u001b[0m\u001b[0m\n\u001b[0;32m----> 9\u001b[0;31m \u001b[0mcompany_size_type_counts\u001b[0m \u001b[0;34m=\u001b[0m \u001b[0mtrain_df\u001b[0m\u001b[0;34m.\u001b[0m\u001b[0mgroupby\u001b[0m\u001b[0;34m(\u001b[0m\u001b[0;34m[\u001b[0m\u001b[0;34m'company_size'\u001b[0m\u001b[0;34m,\u001b[0m \u001b[0;34m'company_type'\u001b[0m\u001b[0;34m]\u001b[0m\u001b[0;34m)\u001b[0m\u001b[0;34m.\u001b[0m\u001b[0msize\u001b[0m\u001b[0;34m(\u001b[0m\u001b[0;34m)\u001b[0m\u001b[0;34m.\u001b[0m\u001b[0munstack\u001b[0m\u001b[0;34m(\u001b[0m\u001b[0mfill_value\u001b[0m\u001b[0;34m=\u001b[0m\u001b[0;36m0\u001b[0m\u001b[0;34m)\u001b[0m\u001b[0;34m\u001b[0m\u001b[0;34m\u001b[0m\u001b[0m\n\u001b[0m\u001b[1;32m     10\u001b[0m \u001b[0;34m\u001b[0m\u001b[0m\n\u001b[1;32m     11\u001b[0m \u001b[0;31m# 막대 그래프 그리기\u001b[0m\u001b[0;34m\u001b[0m\u001b[0;34m\u001b[0m\u001b[0m\n",
            "\u001b[0;31mNameError\u001b[0m: name 'train_df' is not defined"
          ]
        }
      ]
    },
    {
      "cell_type": "code",
      "source": [
        "import matplotlib.pyplot as plt\n",
        "import seaborn as sns\n",
        "\n",
        "# city_development_index별 target 변수의 분포 시각화\n",
        "plt.figure(figsize=(10, 6))\n",
        "sns.violinplot(data=train_df, x='target', y='city_development_index', palette=['gray', '#0e4f66'])\n",
        "plt.title('Distribution of Target by City Development Index')\n",
        "plt.xlabel('Target')\n",
        "plt.ylabel('City Development Index')\n",
        "plt.show()\n"
      ],
      "metadata": {
        "id": "7zdkSLUVXodG"
      },
      "execution_count": null,
      "outputs": []
    }
  ]
}